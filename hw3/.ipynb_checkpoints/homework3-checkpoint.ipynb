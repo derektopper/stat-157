{
 "cells": [
  {
   "cell_type": "markdown",
   "metadata": {},
   "source": [
    "# Homework 3 - Berkeley STAT 157\n",
    "\n",
    "Handout 2/5/2019, due 2/12/2019 by 4pm in Git by committing to your repository.\n",
    "\n",
    "**Formatting: please include both a .ipynb and .pdf file in your homework submission, named homework3.ipynb and homework3.pdf. You can export your notebook to a pdf either by File -> Download as -> PDF via Latex (you may need Latex installed), or by simply printing to a pdf from your browser (you may want to do File -> Print Preview in jupyter first). Please don't change the filename.**       "
   ]
  },
  {
   "cell_type": "code",
   "execution_count": 1,
   "metadata": {
    "ExecuteTime": {
     "end_time": "2019-02-07T00:58:19.457771Z",
     "start_time": "2019-02-07T00:58:16.843106Z"
    }
   },
   "outputs": [],
   "source": [
    "from mxnet import nd, autograd, gluon\n",
    "import matplotlib.pyplot as plt"
   ]
  },
  {
   "cell_type": "markdown",
   "metadata": {},
   "source": [
    "# 1. Logistic Regression for Binary Classification\n",
    "\n",
    "In multiclass classification we typically use the exponential model \n",
    "\n",
    "$$p(y|\\mathbf{o}) = \\mathrm{softmax}(\\mathbf{o})_y = \\frac{\\exp(o_y)}{\\sum_{y'} \\exp(o_{y'})}$$\n",
    "\n",
    "1.1. Show that this parametrization has a spurious degree of freedom. That is, show that both $\\mathbf{o}$ and $\\mathbf{o} + c$ with $c \\in \\mathbb{R}$ lead to the same probability estimate.\n",
    "\n",
    "**Answer:** $$p(y|\\mathbf{o}) = \\mathrm{softmax}(\\mathbf{o})_y = \\frac{\\exp(o_y)}{\\sum_{y'} \\exp(o_{y'})}$$\n",
    "\n",
    "$$p(y|\\mathbf{o + c}) = \\mathrm{softmax}(\\mathbf{o + c})_y = \\frac{\\exp(o_y + c)}{\\sum_{y'} \\exp(o_{y'} + c)}$$\n",
    "\n",
    "$$ = \\frac{\\exp(o_y) * \\exp(c)}{(\\sum_{y'} \\exp(o_{y'})) * \\exp(c) }$$\n",
    "\n",
    "$$ = \\frac{\\exp(o_y)}{\\sum_{y'} \\exp(o_{y'})}$$\n",
    "\n",
    "\n",
    "1.2. For binary classification, i.e. whenever we have only two classes $\\{-1, 1\\}$, we can arbitrarily set $o_{-1} = 0$. Using the shorthand $o = o_1$ show that this is equivalent to \n",
    "\n",
    "$$p(y=1|o) = \\frac{1}{1 + \\exp(-o)}$$\n",
    "\n",
    "**Answer:** $$p(y=1|o)$$\n",
    "\n",
    "$$= \\frac{\\exp(o)}{\\exp(0) + \\exp(o)}$$\n",
    "\n",
    "$$= \\frac{\\exp(o)}{1 + \\exp(o)}$$\n",
    "\n",
    "$$= \\frac{\\frac{\\exp(o)}{\\exp(o)}}{\\frac{1}{\\exp(o)} + \\frac{\\exp(o)}{\\exp(o)}}\n",
    "$$\n",
    "\n",
    "$$= \\frac{1}{1 + \\exp(-o)}$$\n",
    "\n",
    "$$p(y=1|o) = \\frac{1}{1 + \\exp(-o)}$$\n",
    "\n",
    "1.3. Show that the log-likelihood loss (often called logistic loss) for labels $y \\in \\{-1, 1\\}$ is thus given by \n",
    "\n",
    "$$-\\log p(y|o) = \\log (1 + \\exp(-y \\cdot o))$$\n",
    "\n",
    "**Answer:**\n",
    "\n",
    "The two probabilities are effectively very similar and the difference between the two is the fact that there is a negative sign on the denomitator's exponent. Using the result from 1.2,\n",
    "\n",
    "$$p(y=1|o) = \\frac{1}{1 + \\exp(-o)}  $$ \n",
    "\n",
    "Since these probabilities need to sum up to 1, \n",
    "\n",
    "$$\\ p(y=-1|o) = \\frac{\\exp(-o)}{1 + \\exp(-o)} = \\frac{\\exp(-o) \\cdot \\exp(o)}{1 \\cdot \\exp(o) + \\exp(-o) \\cdot \\exp(o)} = \\frac{1}{1 + \\exp(o)}$$ \n",
    "\n",
    "we can alter this form of the equation to receive the desired result in one equation. \n",
    "\n",
    "$$p(y|o) = \\frac{1}{1 + \\exp(-y \\cdot o)} \\\\\\ \\log p(y|o) = -\\log(1 + \\exp(-y \\cdot o)) \\\\ -\\log p(y|o) = \\log(1 + \\exp(-y \\cdot o))$$\n",
    "\n",
    "1.4. Show that for $y = 1$ the logistic loss asymptotes to $o$ for $o \\to \\infty$ and to $\\exp(o)$ for $o \\to -\\infty$. \n",
    "\n",
    "**Answer:** From the previous three parts,\n",
    "\n",
    "$$-\\log p(y|o) = \\log (1 + \\exp(-y \\cdot o))$$\n",
    "\n",
    "$$-\\log p(y = 1|o) = \\log (1 + \\exp(-o))$$\n",
    "\n",
    "as,  $o \\to \\infty$ and as $\\exp(-o) \\to 0$. "
   ]
  },
  {
   "cell_type": "markdown",
   "metadata": {},
   "source": [
    "# 2. Logistic Regression and Autograd\n",
    "\n",
    "1. Implement the binary logistic loss $l(y,o) = \\log (1 + \\exp(-y \\cdot o))$ in Gluon\n",
    "1. Plot its values for $y \\in \\{-1, 1\\}$ over the range of $o \\in [-5, 5]$.\n",
    "1. Plot its derivative with respect to $o$ for $o \\in [-5, 5]$ using 'autograd'."
   ]
  },
  {
   "cell_type": "code",
   "execution_count": 21,
   "metadata": {
    "ExecuteTime": {
     "end_time": "2019-02-07T00:58:19.464756Z",
     "start_time": "2019-02-07T00:58:19.459943Z"
    }
   },
   "outputs": [],
   "source": [
    "def loss(y,o):\n",
    "    ## add your loss function here\n",
    "    return (nd.log(1+nd.exp(-y*o)))\n",
    "\n",
    "import numpy as np\n",
    "o = nd.arange(-5, 5.1, .1)\n",
    "negatedY = nd.zeros(len(o))\n",
    "posifiedY = nd.zeros(len(o))\n",
    "negatedLoss = loss(-1, o)\n",
    "posifiedLoss = loss(1, o)"
   ]
  },
  {
   "cell_type": "code",
   "execution_count": 28,
   "metadata": {},
   "outputs": [
    {
     "data": {
      "image/png": "[encoded data removed]",
      "text/plain": [
       "<Figure size 432x288 with 1 Axes>"
      ]
     },
     "metadata": {
      "needs_background": "light"
     },
     "output_type": "display_data"
    }
   ],
   "source": [
    "plt.plot(o.asnumpy(), negatedLoss.asnumpy(), label = 'y = -1', color = 'g')\n",
    "plt.plot(o.asnumpy(), posifiedLoss.asnumpy(), label = 'y = 1', color = 'm')\n",
    "plt.title(\"Y value over the O range of ±5\")\n",
    "plt.ylabel(\"Loss\")\n",
    "plt.xlabel(\"Range\")\n",
    "plt.legend()\n",
    "plt.show()"
   ]
  },
  {
   "cell_type": "code",
   "execution_count": 30,
   "metadata": {},
   "outputs": [
    {
     "data": {
      "text/plain": [
       "<matplotlib.legend.Legend at 0x207ac6e0c50>"
      ]
     },
     "execution_count": 30,
     "metadata": {},
     "output_type": "execute_result"
    },
    {
     "data": {
      "image/png": "[encoded data removed]",
      "text/plain": [
       "<Figure size 432x288 with 1 Axes>"
      ]
     },
     "metadata": {
      "needs_background": "light"
     },
     "output_type": "display_data"
    }
   ],
   "source": [
    "posifiedO = o.copy()\n",
    "negafiedO = o.copy()\n",
    "\n",
    "posifiedO.attach_grad()\n",
    "negafiedO.attach_grad()\n",
    "\n",
    "with autograd.record():\n",
    "    negatedLoss = loss(-1, negafiedO)\n",
    "    posifiedLoss = loss(1, posifiedO)\n",
    "negatedLoss.backward()\n",
    "posifiedLoss.backward()\n",
    "\n",
    "plt.plot(o.asnumpy(), negafiedO.grad.asnumpy(),label = 'y = -1', color = 'g')\n",
    "plt.plot(o.asnumpy(), posifiedO.grad.asnumpy(), label = 'y = 1', color = 'm')\n",
    "plt.title(\"Derivative with respect to O over the O range of ±5\")\n",
    "plt.ylabel(\"Loss Gradient\")\n",
    "plt.xlabel(\"Range\")\n",
    "plt.legend()"
   ]
  },
  {
   "cell_type": "markdown",
   "metadata": {},
   "source": [
    "# 3. Ohm's Law\n",
    "\n",
    "Imagine that you're a young physicist, maybe named [Georg Simon Ohm](https://en.wikipedia.org/wiki/Georg_Ohm), trying to figure out how current and voltage depend on each other for resistors. You have some idea but you aren't quite sure yet whether the dependence is linear or quadratic. So you take some measurements, conveniently given to you as 'ndarrays' in Python. They are indicated by 'current' and 'voltage'.\n",
    "\n",
    "Your goal is to use least mean squares regression to identify the coefficients for the following three models using automatic differentiation and least mean squares regression. The three models are:\n",
    "\n",
    "1. Quadratic model where $\\mathrm{voltage} = c + r \\cdot \\mathrm{current} + q \\cdot \\mathrm{current}^2$.\n",
    "1. Linear model where $\\mathrm{voltage} = c + r \\cdot \\mathrm{current}$.\n",
    "1. Ohm's law where $\\mathrm{voltage} = r \\cdot \\mathrm{current}$."
   ]
  },
  {
   "cell_type": "code",
   "execution_count": 32,
   "metadata": {
    "ExecuteTime": {
     "end_time": "2019-02-07T00:58:19.477109Z",
     "start_time": "2019-02-07T00:58:19.468122Z"
    }
   },
   "outputs": [],
   "source": [
    "current = nd.array([1.5420291, 1.8935232, 2.1603365, 2.5381863, 2.893443, \\\n",
    "                    3.838855, 3.925425, 4.2233696, 4.235571, 4.273397, \\\n",
    "                    4.9332876, 6.4704757, 6.517571, 6.87826, 7.0009003, \\\n",
    "                    7.035741, 7.278681, 7.7561755, 9.121138, 9.728281])\n",
    "voltage = nd.array([63.802246, 80.036026, 91.4903, 108.28776, 122.781975, \\\n",
    "                    161.36314, 166.50816, 176.16772, 180.29395, 179.09758, \\\n",
    "                    206.21027, 272.71857, 272.24033, 289.54745, 293.8488, \\\n",
    "                    295.2281, 306.62274, 327.93243, 383.16296, 408.65967])"
   ]
  },
  {
   "cell_type": "code",
   "execution_count": 40,
   "metadata": {},
   "outputs": [
    {
     "name": "stdout",
     "output_type": "stream",
     "text": [
      "Quadratic model (Voltage = c + r⋅Current + q⋅Current^2)\n",
      "epoch:  1  loss:  18717.197\n",
      "epoch:  2  loss:  12344.661\n",
      "epoch:  3  loss:  8390.708\n",
      "epoch:  4  loss:  5935.951\n",
      "epoch:  5  loss:  4410.499\n",
      "epoch:  6  loss:  3461.104\n",
      "epoch:  7  loss:  2868.8037\n",
      "epoch:  8  loss:  2497.8694\n",
      "epoch:  9  loss:  2264.171\n",
      "epoch:  10  loss:  2115.559\n",
      "epoch:  11  loss:  2019.708\n",
      "epoch:  12  loss:  1956.5804\n",
      "epoch:  13  loss:  1913.7576\n",
      "epoch:  14  loss:  1883.5391\n",
      "epoch:  15  loss:  1861.1526\n",
      "epoch:  16  loss:  1843.6406\n",
      "epoch:  17  loss:  1829.1692\n",
      "epoch:  18  loss:  1816.6012\n",
      "epoch:  19  loss:  1805.232\n",
      "epoch:  20  loss:  1794.625\n",
      "dense6_weight \n",
      "[[2.5467165 5.1453238]]\n",
      "<NDArray 1x2 @cpu(0)>\n",
      "dense6_bias \n",
      "[0.82396436]\n",
      "<NDArray 1 @cpu(0)>\n"
     ]
    }
   ],
   "source": [
    "from mxnet.gluon import loss as gloss, nn\n",
    "from mxnet.gluon import data as gdata\n",
    "from mxnet import init\n",
    "\n",
    "loss = gloss.L2Loss() \n",
    "batch_size = 20 \n",
    "num_epochs = 20\n",
    "\n",
    "# Data Preprocessing\n",
    "quadraticCurr = np.vstack((current.asnumpy(), current.asnumpy()**2))\n",
    "quadraticCurr = nd.array(quadraticCurr.T)\n",
    "quadraticOutput = gdata.ArrayDataset(quadraticCurr, voltage)\n",
    "quadraticOutputIterat = gdata.DataLoader(quadraticOutput, \n",
    "                                         batch_size, shuffle=True)\n",
    "\n",
    "# Build Model\n",
    "quadraticModel = nn.Sequential() \n",
    "quadraticModel.add(nn.Dense(1, use_bias=True))\n",
    "\n",
    "# Initialize Model \n",
    "quadraticModel.initialize(init.Normal(sigma=0.01))\n",
    "\n",
    "# Define the Training Algorithm\n",
    "quadraticTraining = gluon.Trainer(quadraticModel.collect_params(), 'sgd', {'learning_rate': 0.001})\n",
    "\n",
    "# Training:\n",
    "print(\"Quadratic model (Voltage = c + r⋅Current + q⋅Current^2)\")\n",
    "for epoch in range(1, num_epochs + 1): \n",
    "    for X, y in quadraticOutputIterat:\n",
    "        with autograd.record():\n",
    "            losses = loss(quadraticModel(X), y)\n",
    "        losses.backward()\n",
    "        quadraticTraining.step(batch_size)\n",
    "    losses = loss(quadraticModel(quadraticCurr), voltage)\n",
    "    print(\"epoch: \", epoch, \" loss: \", losses.mean().asscalar())\n",
    "    \n",
    "# Running Model\n",
    "quadraticIterat = quadraticModel.collect_params('.*weight|.*bias')\n",
    "for i in quadraticIterat:\n",
    "    print(i, quadraticIterat[str(i)].data())\n"
   ]
  },
  {
   "cell_type": "markdown",
   "metadata": {},
   "source": [
    "Quadratic model where voltage = c + r * current + q * ${current}^2$.\n",
    "\n",
    "For quadratic model where voltage = c + r * current + q * ${current}^2$.\n",
    "\n",
    "c = 0.8242898\n",
    "\n",
    "r = 2.550703\n",
    "\n",
    "q = 5.1446075\n",
    "\n",
    "For the linear model,"
   ]
  },
  {
   "cell_type": "code",
   "execution_count": 41,
   "metadata": {},
   "outputs": [
    {
     "name": "stdout",
     "output_type": "stream",
     "text": [
      "Linear model: (Voltage = c + r⋅Current)\n",
      "epoch:  1  loss:  3123.4526\n",
      "epoch:  2  loss:  339.7291\n",
      "epoch:  3  loss:  39.82897\n",
      "epoch:  4  loss:  7.5036073\n",
      "epoch:  5  loss:  4.0033994\n",
      "epoch:  6  loss:  3.6085763\n",
      "epoch:  7  loss:  3.5484214\n",
      "epoch:  8  loss:  3.52444\n",
      "epoch:  9  loss:  3.5044453\n",
      "epoch:  10  loss:  3.4849954\n",
      "epoch:  11  loss:  3.4657452\n",
      "epoch:  12  loss:  3.4466023\n",
      "epoch:  13  loss:  3.4276175\n",
      "epoch:  14  loss:  3.4087386\n",
      "epoch:  15  loss:  3.3899841\n",
      "epoch:  16  loss:  3.3713593\n",
      "epoch:  17  loss:  3.3528557\n",
      "epoch:  18  loss:  3.334478\n",
      "epoch:  19  loss:  3.3162205\n",
      "epoch:  20  loss:  3.2980735\n",
      "dense7_weight \n",
      "[[41.070393]]\n",
      "<NDArray 1x1 @cpu(0)>\n",
      "dense7_bias \n",
      "[6.1695476]\n",
      "<NDArray 1 @cpu(0)>\n"
     ]
    }
   ],
   "source": [
    "linearOutput = gdata.ArrayDataset(current, voltage)\n",
    "linearOutputIterat = gdata.DataLoader(linearOutput, \n",
    "                                    batch_size, shuffle=True)\n",
    "\n",
    "# Build Model\n",
    "linearModel = nn.Sequential() \n",
    "linearModel.add(nn.Dense(1, use_bias=True))\n",
    "\n",
    "# Initialize Model \n",
    "linearModel.initialize(init.Normal(sigma=0.01))\n",
    "\n",
    "# Define the Training Algorithm\n",
    "linearTraining = gluon.Trainer(linearModel.collect_params(), \n",
    "                                  'sgd', {'learning_rate': 0.02})\n",
    "\n",
    "# Training:\n",
    "print(\"Linear model: (Voltage = c + r⋅Current)\")\n",
    "for epoch in range(1, num_epochs + 1): \n",
    "    for X, y in linearOutputIterat:\n",
    "        with autograd.record():\n",
    "            losses = loss(linearModel(X), y)\n",
    "        losses.backward()\n",
    "        linearTraining.step(batch_size)\n",
    "    losses = loss(linearModel(current), voltage)\n",
    "    print(\"epoch: \", epoch, \" loss: \", losses.mean().asscalar())\n",
    "    \n",
    "# Running Model\n",
    "linearIterat = linearModel.collect_params('.*weight|.*bias')\n",
    "for i in linearIterat:\n",
    "    print(i, linearIterat[str(i)].data())"
   ]
  },
  {
   "cell_type": "markdown",
   "metadata": {},
   "source": [
    "Linear model where voltage = c + r * current. \n",
    "\n",
    "For the linear model,\n",
    "\n",
    "c = 6.1695476\n",
    "\n",
    "r = 41.070393\n",
    "\n",
    "For the Ohm's law model where voltage=𝑟⋅current,"
   ]
  },
  {
   "cell_type": "code",
   "execution_count": 43,
   "metadata": {},
   "outputs": [
    {
     "name": "stdout",
     "output_type": "stream",
     "text": [
      "Ohm's Law model: (Voltage = r⋅Current)\n",
      "epoch:  1  loss:  13096.057\n",
      "epoch:  2  loss:  5922.145\n",
      "epoch:  3  loss:  2678.226\n",
      "epoch:  4  loss:  1211.3817\n",
      "epoch:  5  loss:  548.1\n",
      "epoch:  6  loss:  248.17554\n",
      "epoch:  7  loss:  112.5552\n",
      "epoch:  8  loss:  51.22992\n",
      "epoch:  9  loss:  23.499666\n",
      "epoch:  10  loss:  10.960528\n",
      "epoch:  11  loss:  5.2905836\n",
      "epoch:  12  loss:  2.7266955\n",
      "epoch:  13  loss:  1.5673734\n",
      "epoch:  14  loss:  1.0431287\n",
      "epoch:  15  loss:  0.8060891\n",
      "epoch:  16  loss:  0.698892\n",
      "epoch:  17  loss:  0.6504249\n",
      "epoch:  18  loss:  0.62850815\n",
      "epoch:  19  loss:  0.61859715\n",
      "epoch:  20  loss:  0.61412054\n",
      "dense9_weight \n",
      "[[42.04168]]\n",
      "<NDArray 1x1 @cpu(0)>\n"
     ]
    }
   ],
   "source": [
    "ohmOutput = gdata.ArrayDataset(current, voltage)\n",
    "ohmOutputIterat = gdata.DataLoader(ohmOutput, \n",
    "                                    batch_size, shuffle=True)\n",
    "\n",
    "# Build Model\n",
    "ohmModel = nn.Sequential() \n",
    "ohmModel.add(nn.Dense(1, use_bias=False))\n",
    "\n",
    "# Initialize Model \n",
    "ohmModel.initialize(init.Normal(sigma=0.01))\n",
    "\n",
    "# Define the Training Algorithm\n",
    "ohmTraining = gluon.Trainer(ohmModel.collect_params(), \n",
    "                                  'sgd', {'learning_rate': 0.01})\n",
    "\n",
    "# Training:\n",
    "print(\"Ohm's Law model: (Voltage = r⋅Current)\")\n",
    "for epoch in range(1, num_epochs + 1): \n",
    "    for X, y in ohmOutputIterat:\n",
    "        with autograd.record():\n",
    "            losses = loss(ohmModel(X), y)\n",
    "        losses.backward()\n",
    "        ohmTraining.step(batch_size)\n",
    "    losses = loss(ohmModel(current), voltage)\n",
    "    print(\"epoch: \", epoch, \" loss: \", losses.mean().asscalar())\n",
    "    \n",
    "# Running Model\n",
    "ohmIterat = ohmModel.collect_params('.*weight|.*bias')\n",
    "for i in ohmIterat:\n",
    "    print(i, ohmIterat[str(i)].data())\n",
    "    "
   ]
  },
  {
   "cell_type": "markdown",
   "metadata": {},
   "source": [
    "For the Ohm's law model where voltage=𝑟⋅current,\n",
    "\n",
    "r = 42.056705"
   ]
  },
  {
   "cell_type": "markdown",
   "metadata": {},
   "source": [
    "# 4. Entropy\n",
    "\n",
    "Let's compute the *binary* entropy of a number of interesting data sources. \n",
    "\n",
    "1. Assume that you're watching the output generated by a [monkey at a typewriter](https://en.wikipedia.org/wiki/File:Chimpanzee_seated_at_typewriter.jpg). The monkey presses any of the $44$ keys of the typewriter at random (you can assume that it has not discovered any special keys or the shift key yet). How many bits of randomness per character do you observe?\n",
    "1. Unhappy with the monkey you replaced it by a drunk typesetter. It is able to generate words, albeit not coherently. Instead, it picks a random word out of a vocabulary of $2,000$ words. Moreover, assume that the average length of a word is $4.5$ letters in English. How many bits of randomness do you observe now?\n",
    "1. Still unhappy with the result you replace the typesetter by a high quality language model. These can obtain perplexity numbers as low as 20 points per character. The perplexity is defined as a length normalized probability, i.e.\n",
    "\n",
    "$$\\mathrm{PPL}(x) = \\left[p(x)\\right]^{1/\\mathrm{length}(x)}$$"
   ]
  },
  {
   "cell_type": "code",
   "execution_count": 45,
   "metadata": {},
   "outputs": [
    {
     "name": "stdout",
     "output_type": "stream",
     "text": [
      " How many bits of randomness per character do you observe? ANSWER:  5.459431618637296 bits of randomness\n"
     ]
    }
   ],
   "source": [
    "# 4.1)\n",
    "def entropy(probabilities):\n",
    "    return -np.sum(probabilities*np.log2(probabilities))\n",
    "\n",
    "dist = np.ones(44)/44\n",
    "print(\" How many bits of randomness per character do you observe? ANSWER: \",entropy(dist), \"bits of randomness\")"
   ]
  },
  {
   "cell_type": "code",
   "execution_count": 46,
   "metadata": {},
   "outputs": [
    {
     "name": "stdout",
     "output_type": "stream",
     "text": [
      "How many bits of randomness do you observe now? ANSWER:  23.794929479711463 bits of randomness\n"
     ]
    }
   ],
   "source": [
    "#4.2)\n",
    "wordList = np.ones(2000)/2000\n",
    "print(\"How many bits of randomness do you observe now? ANSWER: \",entropy(wordList)*np.log2(4.5), \"bits of randomness\")"
   ]
  },
  {
   "cell_type": "code",
   "execution_count": 48,
   "metadata": {},
   "outputs": [
    {
     "name": "stdout",
     "output_type": "stream",
     "text": [
      "ANSWER:  102.8399742342285 bits of randomness\n"
     ]
    }
   ],
   "source": [
    "#4.3)\n",
    "print(\"ANSWER: \",entropy(wordList)*np.log2(4.5)*np.log2(20), \"bits of randomness\")"
   ]
  },
  {
   "cell_type": "markdown",
   "metadata": {},
   "source": [
    "# 5. Wien's Approximation for the Temperature (bonus)\n",
    "\n",
    "We will now abuse Gluon to estimate the temperature of a black body. The energy emanated from a black body is given by Wien's approximation.\n",
    "\n",
    "$$B_\\lambda(T) = \\frac{2 h c^2}{\\lambda^5} \\exp\\left(-\\frac{h c}{\\lambda k T}\\right)$$\n",
    "\n",
    "That is, the amount of energy depends on the fifth power of the wavelength $\\lambda$ and the temperature $T$ of the body. The latter ensures a cutoff beyond a temperature-characteristic peak. Let us define this and plot it."
   ]
  },
  {
   "cell_type": "code",
   "execution_count": 4,
   "metadata": {
    "ExecuteTime": {
     "end_time": "2019-02-07T00:58:19.805358Z",
     "start_time": "2019-02-07T00:58:19.479818Z"
    }
   },
   "outputs": [
    {
     "data": {
      "image/png": "[encoded data removed]",
      "text/plain": [
       "<matplotlib.figure.Figure at 0x11a0be8d0>"
      ]
     },
     "metadata": {},
     "output_type": "display_data"
    }
   ],
   "source": [
    "# Lightspeed\n",
    "c = 299792458\n",
    "# Planck's constant\n",
    "h = 6.62607004e-34\n",
    "# Boltzmann constant\n",
    "k = 1.38064852e-23\n",
    "# Wavelength scale (nanometers)\n",
    "lamscale = 1e-6\n",
    "# Pulling out all powers of 10 upfront\n",
    "p_out = 2 * h * c**2 / lamscale**5\n",
    "p_in = (h / k) * (c/lamscale) \n",
    "\n",
    "# Wien's law\n",
    "def wien(lam, t):\n",
    "    return (p_out / lam**5) * nd.exp(-p_in / (lam * t))\n",
    "\n",
    "# Plot the radiance for a few different temperatures\n",
    "lam = nd.arange(0,100,0.01)\n",
    "for t in [10, 100, 150, 200, 250, 300, 350]:\n",
    "    radiance = wien(lam, t)\n",
    "    plt.plot(lam.asnumpy(), radiance.asnumpy(), label=('T=' + str(t) + 'K'))\n",
    "plt.legend()\n",
    "plt.show()"
   ]
  },
  {
   "cell_type": "markdown",
   "metadata": {},
   "source": [
    "Next we assume that we are a fearless physicist measuring some data. Of course, we need to pretend that we don't really know the temperature. But we measure the radiation at a few wavelengths.  "
   ]
  },
  {
   "cell_type": "code",
   "execution_count": 5,
   "metadata": {
    "ExecuteTime": {
     "end_time": "2019-02-07T00:58:20.063122Z",
     "start_time": "2019-02-07T00:58:19.808000Z"
    }
   },
   "outputs": [
    {
     "data": {
      "image/png": "[encoded data removed]",
      "text/plain": [
       "<matplotlib.figure.Figure at 0x10e76af60>"
      ]
     },
     "metadata": {},
     "output_type": "display_data"
    }
   ],
   "source": [
    "# real temperature is approximately 0C\n",
    "realtemp = 273\n",
    "# we observe at 3000nm up to 20,000nm wavelength\n",
    "wavelengths = nd.arange(3,20,2)\n",
    "# our infrared filters are pretty lousy ...\n",
    "delta = nd.random_normal(shape=(len(wavelengths))) * 1\n",
    "\n",
    "radiance = wien(wavelengths + delta,realtemp)\n",
    "plt.plot(wavelengths.asnumpy(), radiance.asnumpy(), label='measured')\n",
    "plt.plot(wavelengths.asnumpy(), wien(wavelengths, realtemp).asnumpy(), label='true')\n",
    "plt.legend()\n",
    "plt.show()"
   ]
  },
  {
   "cell_type": "markdown",
   "metadata": {
    "ExecuteTime": {
     "end_time": "2019-01-29T19:41:18.204791Z",
     "start_time": "2019-01-29T19:41:18.201091Z"
    }
   },
   "source": [
    "Use Gluon to estimate the real temperature based on the variables `wavelengths` and `radiance`. \n",
    "\n",
    "* You can use Wien's law implementation `wien(lam,t)` as your forward model. \n",
    "* Use the loss function $l(y,y') = (\\log y - \\log y')^2$ to measure accuracy."
   ]
  },
  {
   "cell_type": "code",
   "execution_count": null,
   "metadata": {},
   "outputs": [],
   "source": [
    "lossFunction = lambda y, y_: nd.power((nd.log(y) - nd.log(y_)),2).sum()"
   ]
  }
 ],
 "metadata": {
  "anaconda-cloud": {},
  "kernelspec": {
   "display_name": "Python 3",
   "language": "python",
   "name": "python3"
  },
  "language_info": {
   "codemirror_mode": {
    "name": "ipython",
    "version": 3
   },
   "file_extension": ".py",
   "mimetype": "text/x-python",
   "name": "python",
   "nbconvert_exporter": "python",
   "pygments_lexer": "ipython3",
   "version": "3.6.8"
  }
 },
 "nbformat": 4,
 "nbformat_minor": 2
}
